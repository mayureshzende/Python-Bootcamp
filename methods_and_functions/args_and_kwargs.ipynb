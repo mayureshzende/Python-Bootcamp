{
 "cells": [
  {
   "cell_type": "code",
   "execution_count": 1,
   "metadata": {},
   "outputs": [],
   "source": [
    "# using the *args and **kwargs \n",
    "# where the signe star/asterisk is a array for the arguments \n",
    "# where the ** stand for the key words arguments to be passed \n",
    "\n",
    "def my_func(a,b):\n",
    "    # return the 5% of the arguments sum\n",
    "    return sum((a,b)) * 0.05\n"
   ]
  },
  {
   "cell_type": "code",
   "execution_count": 2,
   "metadata": {},
   "outputs": [
    {
     "data": {
      "text/plain": [
       "5.0"
      ]
     },
     "execution_count": 2,
     "metadata": {},
     "output_type": "execute_result"
    }
   ],
   "source": [
    "# args are treated as the tuple\n",
    "my_func(40,60)"
   ]
  },
  {
   "cell_type": "code",
   "execution_count": 5,
   "metadata": {},
   "outputs": [],
   "source": [
    "# we can pass as many arguments as we want and iterate over them to get the values\n",
    "def my_args_func(*args):\n",
    "    print(args)\n",
    "    return sum(args) * 0.05\n"
   ]
  },
  {
   "cell_type": "code",
   "execution_count": 6,
   "metadata": {},
   "outputs": [
    {
     "name": "stdout",
     "output_type": "stream",
     "text": [
      "(40, 60, 100, 100)\n"
     ]
    },
    {
     "data": {
      "text/plain": [
       "15.0"
      ]
     },
     "execution_count": 6,
     "metadata": {},
     "output_type": "execute_result"
    }
   ],
   "source": [
    "my_args_func(40,60,100,100)"
   ]
  },
  {
   "cell_type": "code",
   "execution_count": 8,
   "metadata": {},
   "outputs": [],
   "source": [
    "# we can also pass the dictionary as the args array for that we need to use  **\n",
    "def my_dict_func(**kwargs):\n",
    "    print('my favourate food is {}'.format(kwargs['food']))\n"
   ]
  },
  {
   "cell_type": "code",
   "execution_count": 9,
   "metadata": {},
   "outputs": [
    {
     "name": "stdout",
     "output_type": "stream",
     "text": [
      "my favourate food is protin\n"
     ]
    }
   ],
   "source": [
    "my_dict_func(food='protin')"
   ]
  },
  {
   "cell_type": "markdown",
   "metadata": {},
   "source": [
    "* note we need to pass the args first and then kwargs or we will get an error "
   ]
  },
  {
   "cell_type": "code",
   "execution_count": 18,
   "metadata": {},
   "outputs": [],
   "source": [
    "# we can pass both the *args and **kwargs \n",
    "def my_func_both(*args,**kwargs):\n",
    "    print(args)\n",
    "    print(kwargs)\n",
    "    print('my favourite food/fruit is  {}, of which i can eat {} at time'.format(kwargs['food'], args[0]))"
   ]
  },
  {
   "cell_type": "code",
   "execution_count": 19,
   "metadata": {},
   "outputs": [
    {
     "name": "stdout",
     "output_type": "stream",
     "text": [
      "(10, 20, 30)\n",
      "{'food': 'panner', 'fruit': 'apple'}\n",
      "my favourite food/fruit is  panner, of which i can eat 10 at time\n"
     ]
    }
   ],
   "source": [
    "my_func_both(10,20,30,food = 'panner' , fruit = 'apple')"
   ]
  },
  {
   "cell_type": "code",
   "execution_count": 28,
   "metadata": {},
   "outputs": [],
   "source": [
    "def myfunc_str(str):\n",
    "    res = ''\n",
    "    i = 0\n",
    "    for i,s in enumerate(str):\n",
    "        print( i , s )\n",
    "        if i % 2 == 0:\n",
    "            res += s.lower()\n",
    "        else:\n",
    "            res += s.upper()\n",
    "    return res"
   ]
  },
  {
   "cell_type": "code",
   "execution_count": 29,
   "metadata": {},
   "outputs": [
    {
     "name": "stdout",
     "output_type": "stream",
     "text": [
      "0 m\n",
      "1 a\n",
      "2 y\n",
      "3 u\n",
      "4 r\n"
     ]
    },
    {
     "data": {
      "text/plain": [
       "'mAyUr'"
      ]
     },
     "execution_count": 29,
     "metadata": {},
     "output_type": "execute_result"
    }
   ],
   "source": [
    "myfunc_str('mayur')"
   ]
  }
 ],
 "metadata": {
  "kernelspec": {
   "display_name": "Python 3.11.0 64-bit",
   "language": "python",
   "name": "python3"
  },
  "language_info": {
   "codemirror_mode": {
    "name": "ipython",
    "version": 3
   },
   "file_extension": ".py",
   "mimetype": "text/x-python",
   "name": "python",
   "nbconvert_exporter": "python",
   "pygments_lexer": "ipython3",
   "version": "3.11.0"
  },
  "orig_nbformat": 4,
  "vscode": {
   "interpreter": {
    "hash": "58213eb91fc082655b498fd1b2e52c0162563108f117a93aa5fb236488f78a55"
   }
  }
 },
 "nbformat": 4,
 "nbformat_minor": 2
}
