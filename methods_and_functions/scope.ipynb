{
 "cells": [
  {
   "cell_type": "markdown",
   "metadata": {},
   "source": [
    "we have 4 scopes i.e \n",
    "* local \n",
    "* enclosing \n",
    "* global\n",
    "* top level which is for the python inbuilt itself"
   ]
  },
  {
   "cell_type": "code",
   "execution_count": 7,
   "metadata": {},
   "outputs": [],
   "source": [
    "# global scope \n",
    "x = 50\n",
    "\n",
    "def func_scope():\n",
    "# enclosing scope\n",
    "    x = 10 \n",
    "    print('this is the enclosing scope  {}'.format(x))\n",
    "    def hello():\n",
    "        # local scope\n",
    "        x = 20\n",
    "        print('the new value of x is {}'.format(x))\n",
    "    hello()"
   ]
  },
  {
   "cell_type": "code",
   "execution_count": 8,
   "metadata": {},
   "outputs": [
    {
     "name": "stdout",
     "output_type": "stream",
     "text": [
      "this is the enclosing scope  10\n",
      "the new value of x is 20\n"
     ]
    },
    {
     "data": {
      "text/plain": [
       "50"
      ]
     },
     "execution_count": 8,
     "metadata": {},
     "output_type": "execute_result"
    }
   ],
   "source": [
    "func_scope()\n",
    "x"
   ]
  },
  {
   "cell_type": "code",
   "execution_count": 9,
   "metadata": {},
   "outputs": [],
   "source": [
    "# to make the reassingment pass the arguments and then return that from the function and assign it to the value which is declared globally\n",
    "# or we can use the global keyword that set the scope  globally and this should be avoided untill neccessary\n"
   ]
  }
 ],
 "metadata": {
  "kernelspec": {
   "display_name": "Python 3.11.0 64-bit",
   "language": "python",
   "name": "python3"
  },
  "language_info": {
   "codemirror_mode": {
    "name": "ipython",
    "version": 3
   },
   "file_extension": ".py",
   "mimetype": "text/x-python",
   "name": "python",
   "nbconvert_exporter": "python",
   "pygments_lexer": "ipython3",
   "version": "3.11.0"
  },
  "orig_nbformat": 4,
  "vscode": {
   "interpreter": {
    "hash": "58213eb91fc082655b498fd1b2e52c0162563108f117a93aa5fb236488f78a55"
   }
  }
 },
 "nbformat": 4,
 "nbformat_minor": 2
}
