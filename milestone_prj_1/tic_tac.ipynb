{
 "cells": [
  {
   "cell_type": "code",
   "execution_count": 123,
   "metadata": {},
   "outputs": [],
   "source": [
    "from IPython.display import clear_output"
   ]
  },
  {
   "cell_type": "code",
   "execution_count": 30,
   "metadata": {},
   "outputs": [
    {
     "name": "stdout",
     "output_type": "stream",
     "text": [
      " please select the player 1 -> x or o \n"
     ]
    }
   ],
   "source": [
    "print(\" please select the player 1 -> x or o \")\n",
    "player1 = input(\"x or o\")\n",
    "player2 = ''"
   ]
  },
  {
   "cell_type": "code",
   "execution_count": 31,
   "metadata": {},
   "outputs": [
    {
     "data": {
      "text/plain": [
       "'x'"
      ]
     },
     "execution_count": 31,
     "metadata": {},
     "output_type": "execute_result"
    }
   ],
   "source": [
    "player1"
   ]
  },
  {
   "cell_type": "code",
   "execution_count": 164,
   "metadata": {},
   "outputs": [],
   "source": [
    "def select_player_XO(p):\n",
    "    print(f\"{p} please select the -> X or O \")\n",
    "    player1 = '' \n",
    "    player2 = ''\n",
    "    if  p == 'player 1':\n",
    "        player1 = input(\"X or O\")\n",
    "        if player1.upper() == 'X' or player1 == 'x':\n",
    "            player2 = 'O'.upper()\n",
    "        else:\n",
    "            player2 = 'X'.upper()\n",
    "    if p == 'player 2':\n",
    "        player2 = input(\"X or O\")\n",
    "        if player2.upper() == 'x' or player2 == 'x':\n",
    "            player1 = 'O'.upper() \n",
    "        else:\n",
    "            player1 = 'X'.upper()\n",
    "            \n",
    "    return (player1.upper() , player2.upper())"
   ]
  },
  {
   "cell_type": "code",
   "execution_count": 170,
   "metadata": {},
   "outputs": [
    {
     "name": "stdout",
     "output_type": "stream",
     "text": [
      "player 1 please select the -> X or O \n",
      "X O\n"
     ]
    }
   ],
   "source": [
    "p1, p2 = select_player_XO('player 1')\n",
    "print(p1, p2)"
   ]
  },
  {
   "cell_type": "code",
   "execution_count": 29,
   "metadata": {},
   "outputs": [],
   "source": [
    "def display_board(board):\n",
    "    print(f\"{board[1]} | {board[2]} | {board[3]}\")\n",
    "    print(\"-- --- --\")\n",
    "    print(f\"{board[4]} | {board[5]} | {board[6]}\")\n",
    "    print(\"-- --- --\")\n",
    "    print(f\"{board[7]} | {board[8]} | {board[9]}\")\n"
   ]
  },
  {
   "cell_type": "code",
   "execution_count": 83,
   "metadata": {},
   "outputs": [
    {
     "name": "stdout",
     "output_type": "stream",
     "text": [
      "1 | 2 | 3\n",
      "-- --- --\n",
      "4 | 5 | 6\n",
      "-- --- --\n",
      "7 | 8 | 9\n"
     ]
    }
   ],
   "source": [
    "# tic_board = ['#' , 'X' , 'O' , 'X' , 'O', 'X' , 'O', 'X' , 'O' , \"X\"]\n",
    "tic_board = list(range(0,10)) \n",
    "display_board(tic_board)"
   ]
  },
  {
   "cell_type": "code",
   "execution_count": 108,
   "metadata": {},
   "outputs": [],
   "source": [
    "def win_check(board , mark ):\n",
    "    return (\n",
    "        (board[1] == mark and board[2] == mark and board[3] == mark) or \n",
    "        (board[4] == mark and board[5] == mark and board[6] == mark) or \n",
    "        (board[7] == mark and board[8] == mark and board[9] == mark) or \n",
    "        (board[1] == mark and board[4] == mark and board[7] == mark) or \n",
    "        (board[2] == mark and board[5] == mark and board[8] == mark) or \n",
    "        (board[3] == mark and board[6] == mark and board[9] == mark) or \n",
    "        (board[1] == mark and board[5] == mark and board[9] == mark) or \n",
    "        (board[7] == mark and board[5] == mark and board[7] == mark)  \n",
    "    )"
   ]
  },
  {
   "cell_type": "code",
   "execution_count": 110,
   "metadata": {},
   "outputs": [
    {
     "data": {
      "text/plain": [
       "False"
      ]
     },
     "execution_count": 110,
     "metadata": {},
     "output_type": "execute_result"
    }
   ],
   "source": [
    "test_win_board = ['#' , 'X' , 'O' , 'X' , 'O', 'X' , 'O', 'X' , 'O' , \"X\"]\n",
    "win_check(test_win_board , 'O')"
   ]
  },
  {
   "cell_type": "code",
   "execution_count": 87,
   "metadata": {},
   "outputs": [],
   "source": [
    "def place_marker(board , position , marker ):\n",
    "    # display_board(board)\n",
    "    # position = input(\" put the position from (1 ro 9 )\")\n",
    "    board[int(position)] = marker\n",
    "    # active = 'p1'\n",
    "    # if active == 'p1':\n",
    "    #     board[int(position)] = 'X' if player1 == 'X' else 'O'\n",
    "    # else:\n",
    "    #     board[int(position)] = 'X' if player2 == 'X' else 'O'\n",
    "    display_board(board)"
   ]
  },
  {
   "cell_type": "code",
   "execution_count": 84,
   "metadata": {},
   "outputs": [
    {
     "name": "stdout",
     "output_type": "stream",
     "text": [
      " please select the player 1 -> X or O \n",
      "X O\n"
     ]
    }
   ],
   "source": [
    "p1, p2 = select_player_XO()\n",
    "print(p1,p2)\n"
   ]
  },
  {
   "cell_type": "code",
   "execution_count": 70,
   "metadata": {},
   "outputs": [],
   "source": [
    "import random\n",
    "def select_first_move():\n",
    "    return 'player 1' if random.randint(0,1) == 0 else 'player 2' "
   ]
  },
  {
   "cell_type": "code",
   "execution_count": 80,
   "metadata": {},
   "outputs": [
    {
     "data": {
      "text/plain": [
       "'player 2'"
      ]
     },
     "execution_count": 80,
     "metadata": {},
     "output_type": "execute_result"
    }
   ],
   "source": [
    "select_first_move()"
   ]
  },
  {
   "cell_type": "code",
   "execution_count": 114,
   "metadata": {},
   "outputs": [],
   "source": [
    "def space_check(board, position ):\n",
    "    return board[position] in range(1,10)"
   ]
  },
  {
   "cell_type": "code",
   "execution_count": 173,
   "metadata": {},
   "outputs": [],
   "source": [
    "def full_board_check(board):\n",
    "    for i in range(1,10):\n",
    "        if space_check(board , i ):\n",
    "            return False\n",
    "    return True"
   ]
  },
  {
   "cell_type": "code",
   "execution_count": 174,
   "metadata": {},
   "outputs": [
    {
     "data": {
      "text/plain": [
       "False"
      ]
     },
     "execution_count": 174,
     "metadata": {},
     "output_type": "execute_result"
    }
   ],
   "source": [
    "full_board_check(list(range(1,10)))"
   ]
  },
  {
   "cell_type": "code",
   "execution_count": 180,
   "metadata": {},
   "outputs": [],
   "source": [
    "def player_choice(board):\n",
    "    position = 0\n",
    "\n",
    "    while position not in range(1,10) or not space_check(board , position):\n",
    "        position = int(input(\"choose your position between (1 to 9)\"))\n",
    "    return position"
   ]
  },
  {
   "cell_type": "code",
   "execution_count": 175,
   "metadata": {},
   "outputs": [],
   "source": [
    "def replay():\n",
    "    return input(' do you want to play again y/n').lower().startswith('y')"
   ]
  },
  {
   "cell_type": "code",
   "execution_count": 177,
   "metadata": {},
   "outputs": [
    {
     "data": {
      "text/plain": [
       "False"
      ]
     },
     "execution_count": 177,
     "metadata": {},
     "output_type": "execute_result"
    }
   ],
   "source": [
    "replay()"
   ]
  },
  {
   "cell_type": "code",
   "execution_count": 197,
   "metadata": {},
   "outputs": [],
   "source": [
    "def play_game():\n",
    "\n",
    "    tic_board = list(range(0,10)) \n",
    "\n",
    "    # display_board(tic_board)\n",
    "\n",
    "    game_on = False\n",
    "\n",
    "    ready = input(\" Ready to play (yes / no || y / n)\")\n",
    "\n",
    "    if ready.lower() == 'yes' or ready.lower() == 'y':\n",
    "        game_on = True\n",
    "    else:\n",
    "        game_on = False\n",
    "    \n",
    "    while True:\n",
    "        p = select_first_move()\n",
    "        p1,p2 = select_player_XO(p)\n",
    "        print( f\"player 1 is {p1}, player 2 is {p2} \\n\")\n",
    "        print(f\" {p} goes first \")\n",
    "        display_board(tic_board)\n",
    "        \n",
    "        while game_on:\n",
    "            if p == 'player 1':\n",
    "               display_board(tic_board)\n",
    "               position = player_choice(tic_board)\n",
    "               place_marker(tic_board , position , p1 )\n",
    "\n",
    "               if win_check(tic_board , p1):\n",
    "                    display_board(tic_board)\n",
    "                    print(f\" congratulation {p} you have won the game!!!!\")\n",
    "                    game_on = False\n",
    "               else:\n",
    "                    if full_board_check(tic_board):\n",
    "                        display(tic_board)\n",
    "                        print(\" the game is drawn \")\n",
    "                        break   \n",
    "                    else:\n",
    "                        p = 'player 2'\n",
    "                    \n",
    "            else:   \n",
    "                display_board(tic_board)\n",
    "                position = player_choice(tic_board)\n",
    "                place_marker(tic_board , position , p2)\n",
    "\n",
    "                if win_check(tic_board , p2):\n",
    "                    display_board(tic_board)\n",
    "                    print(f\"congratulation {p} hass won the game!!!\")\n",
    "                    game_on = False\n",
    "                else:\n",
    "                    if full_board_check(tic_board):\n",
    "                        display_board(tic_board)\n",
    "                        print(\"the game is drawn!\")\n",
    "                        break\n",
    "                    else:\n",
    "                        p = 'player 1'\n",
    "        if not replay():\n",
    "            break"
   ]
  },
  {
   "cell_type": "code",
   "execution_count": 196,
   "metadata": {},
   "outputs": [
    {
     "name": "stdout",
     "output_type": "stream",
     "text": [
      "X | X | 3\n",
      "-- --- --\n",
      "O | O | X\n",
      "-- --- --\n",
      "7 | 8 | 9\n",
      "X | X | 3\n",
      "-- --- --\n",
      "O | O | X\n",
      "-- --- --\n",
      "O | 8 | 9\n",
      "X | X | 3\n",
      "-- --- --\n",
      "O | O | X\n",
      "-- --- --\n",
      "O | 8 | 9\n",
      "congratulation player 2 hass won the game!!!\n"
     ]
    }
   ],
   "source": [
    "play_game()"
   ]
  }
 ],
 "metadata": {
  "kernelspec": {
   "display_name": "Python 3.11.0 64-bit",
   "language": "python",
   "name": "python3"
  },
  "language_info": {
   "codemirror_mode": {
    "name": "ipython",
    "version": 3
   },
   "file_extension": ".py",
   "mimetype": "text/x-python",
   "name": "python",
   "nbconvert_exporter": "python",
   "pygments_lexer": "ipython3",
   "version": "3.11.0"
  },
  "orig_nbformat": 4,
  "vscode": {
   "interpreter": {
    "hash": "58213eb91fc082655b498fd1b2e52c0162563108f117a93aa5fb236488f78a55"
   }
  }
 },
 "nbformat": 4,
 "nbformat_minor": 2
}
