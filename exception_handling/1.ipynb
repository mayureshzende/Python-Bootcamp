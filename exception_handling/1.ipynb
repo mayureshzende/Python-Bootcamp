{
 "cells": [
  {
   "attachments": {},
   "cell_type": "markdown",
   "metadata": {},
   "source": [
    "# exception handling"
   ]
  },
  {
   "cell_type": "code",
   "execution_count": 1,
   "metadata": {},
   "outputs": [],
   "source": [
    "# when we try to run the program but it has some error in it and we want to continue executing the program then we need to catch that error\n",
    "\n",
    "try:\n",
    "    result = 10 + 10\n",
    "except:\n",
    "    print(\" something went wrong \")\n",
    "    "
   ]
  },
  {
   "cell_type": "code",
   "execution_count": 2,
   "metadata": {},
   "outputs": [
    {
     "data": {
      "text/plain": [
       "20"
      ]
     },
     "execution_count": 2,
     "metadata": {},
     "output_type": "execute_result"
    }
   ],
   "source": [
    "result"
   ]
  },
  {
   "cell_type": "code",
   "execution_count": 3,
   "metadata": {},
   "outputs": [
    {
     "name": "stdout",
     "output_type": "stream",
     "text": [
      " you are adding int and str\n"
     ]
    }
   ],
   "source": [
    "# now if we want ot add the int and str then we will get the error which will be handled by exception \n",
    "\n",
    "try: \n",
    "    result = 10 + '10'\n",
    "except:\n",
    "    print(\" you are adding int and str\")\n",
    "# when there is no exception then the else part is excecuted in success full running of script    \n",
    "else:\n",
    "    print(\" addition is done successfully\")"
   ]
  },
  {
   "cell_type": "code",
   "execution_count": 4,
   "metadata": {},
   "outputs": [
    {
     "name": "stdout",
     "output_type": "stream",
     "text": [
      " i will be executed finally\n"
     ]
    }
   ],
   "source": [
    "# using the finally block -> it executes in both the success and failure case \n",
    "try: \n",
    "    f = open('testfile' , 'w')\n",
    "    f.write(\"this is the test line\")\n",
    "except TypeError:\n",
    "    print(' there was a type error in the program ')\n",
    "except OSError:\n",
    "    print(' the program is voilating the r/w permission')\n",
    "finally:\n",
    "    print(' i will be executed finally')"
   ]
  },
  {
   "cell_type": "code",
   "execution_count": 6,
   "metadata": {},
   "outputs": [
    {
     "name": "stdout",
     "output_type": "stream",
     "text": [
      " the program is voilating the r/w permission\n",
      " i will be executed finally\n"
     ]
    }
   ],
   "source": [
    "# using the finally block -> it executes in both the success and failure case \n",
    "# in case of permission voilation \n",
    "try: \n",
    "    f = open('testfile' , 'r')\n",
    "    f.write(\"this is the test line\")\n",
    "except TypeError:\n",
    "    print(' there was a type error in the program ')\n",
    "except OSError:\n",
    "    print(' the program is voilating the r/w permission')\n",
    "# if we don't know the exception we can have is the except block for all other errors\n",
    "except:\n",
    "    print(\"for all other errors\")\n",
    "finally:\n",
    "    print(' i will be executed finally')"
   ]
  },
  {
   "cell_type": "code",
   "execution_count": 8,
   "metadata": {},
   "outputs": [
    {
     "name": "stdout",
     "output_type": "stream",
     "text": [
      "please enter the number\n",
      "this is the finally block\n"
     ]
    }
   ],
   "source": [
    "# prgram to accept a number and check for int input \n",
    "\n",
    "try: \n",
    "    number = int(input(\"please enter the number\"))\n",
    "except:\n",
    "    print(\"please enter the number\")\n",
    "finally:\n",
    "    print(\"this is the finally block\")"
   ]
  },
  {
   "cell_type": "code",
   "execution_count": 10,
   "metadata": {},
   "outputs": [
    {
     "name": "stdout",
     "output_type": "stream",
     "text": [
      "yes thank you\n",
      "this is the finally block\n"
     ]
    }
   ],
   "source": [
    "# prgram to accept a number and check for int input \n",
    "while True:\n",
    "    try: \n",
    "        number = int(input(\"please enter the number\"))\n",
    "    # keep asking if we want to take int number \n",
    "    except:\n",
    "        print(\"please enter the number\")\n",
    "        continue\n",
    "    else:\n",
    "        print(\"yes thank you\")\n",
    "        break\n",
    "    # genrally we don't mix the else block and finally block to keep message consistant\n",
    "    finally:\n",
    "        print(\"this is the finally block\")"
   ]
  }
 ],
 "metadata": {
  "kernelspec": {
   "display_name": "Python 3",
   "language": "python",
   "name": "python3"
  },
  "language_info": {
   "codemirror_mode": {
    "name": "ipython",
    "version": 3
   },
   "file_extension": ".py",
   "mimetype": "text/x-python",
   "name": "python",
   "nbconvert_exporter": "python",
   "pygments_lexer": "ipython3",
   "version": "3.11.0 (main, Oct 24 2022, 18:26:48) [MSC v.1933 64 bit (AMD64)]"
  },
  "orig_nbformat": 4,
  "vscode": {
   "interpreter": {
    "hash": "58213eb91fc082655b498fd1b2e52c0162563108f117a93aa5fb236488f78a55"
   }
  }
 },
 "nbformat": 4,
 "nbformat_minor": 2
}
