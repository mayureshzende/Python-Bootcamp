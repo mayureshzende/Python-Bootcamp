{
 "cells": [
  {
   "cell_type": "code",
   "execution_count": 1,
   "metadata": {},
   "outputs": [
    {
     "data": {
      "text/plain": [
       "['m', 'a', 'y', 'u', 'r', 'e', 's', 'h']"
      ]
     },
     "execution_count": 1,
     "metadata": {},
     "output_type": "execute_result"
    }
   ],
   "source": [
    "word = 'mayuresh'\n",
    "\n",
    "my_list = [] \n",
    "\n",
    "for letter in word:\n",
    "    my_list.append(letter)\n",
    "\n",
    "my_list"
   ]
  },
  {
   "cell_type": "code",
   "execution_count": 2,
   "metadata": {},
   "outputs": [
    {
     "data": {
      "text/plain": [
       "['m', 'a', 'y', 'u', 'r', 'e', 's', 'h']"
      ]
     },
     "execution_count": 2,
     "metadata": {},
     "output_type": "execute_result"
    }
   ],
   "source": [
    "# this can be done using the list comperensions \n",
    "\n",
    "my_list = [ letter for letter in word]\n",
    "\n",
    "my_list"
   ]
  },
  {
   "cell_type": "code",
   "execution_count": 6,
   "metadata": {},
   "outputs": [
    {
     "data": {
      "text/plain": [
       "[0, 1, 4, 9, 16]"
      ]
     },
     "execution_count": 6,
     "metadata": {},
     "output_type": "execute_result"
    }
   ],
   "source": [
    "# we can also do the opertion on the iterator \n",
    "\n",
    "my_list = [ num**2 for num in range(0,5)]\n",
    "\n",
    "my_list\n"
   ]
  },
  {
   "cell_type": "code",
   "execution_count": 8,
   "metadata": {},
   "outputs": [
    {
     "data": {
      "text/plain": [
       "[0, 4, 16, 36, 64]"
      ]
     },
     "execution_count": 8,
     "metadata": {},
     "output_type": "execute_result"
    }
   ],
   "source": [
    "# we can do the complex converstions as well \n",
    "\n",
    "my_list = [n**2  for n in range(0 , 10 ) if n % 2 == 0 ]\n",
    "my_list"
   ]
  },
  {
   "cell_type": "code",
   "execution_count": 11,
   "metadata": {},
   "outputs": [
    {
     "data": {
      "text/plain": [
       "[33.8, 53.6, 59.0, 68.0, 32.0]"
      ]
     },
     "execution_count": 11,
     "metadata": {},
     "output_type": "execute_result"
    }
   ],
   "source": [
    "# we can also do the operations in that as well \n",
    "temperatures = [ 1, 12, 15, 20, 0 ]\n",
    "\n",
    "# farenhite = [ temp for temp in temperatures]\n",
    "# farenhite # [1, 12, 15, 20 , 0]\n",
    "farenhite = [ ( (9/5) * temp + 32 ) for temp in temperatures]\n",
    "farenhite # [1, 12, 15, 20 , 0]"
   ]
  }
 ],
 "metadata": {
  "kernelspec": {
   "display_name": "Python 3.11.0 64-bit",
   "language": "python",
   "name": "python3"
  },
  "language_info": {
   "codemirror_mode": {
    "name": "ipython",
    "version": 3
   },
   "file_extension": ".py",
   "mimetype": "text/x-python",
   "name": "python",
   "nbconvert_exporter": "python",
   "pygments_lexer": "ipython3",
   "version": "3.11.0"
  },
  "orig_nbformat": 4,
  "vscode": {
   "interpreter": {
    "hash": "58213eb91fc082655b498fd1b2e52c0162563108f117a93aa5fb236488f78a55"
   }
  }
 },
 "nbformat": 4,
 "nbformat_minor": 2
}
