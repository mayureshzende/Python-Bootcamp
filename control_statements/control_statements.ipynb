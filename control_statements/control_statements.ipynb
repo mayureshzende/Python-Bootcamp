{
 "cells": [
  {
   "cell_type": "code",
   "execution_count": null,
   "metadata": {},
   "outputs": [],
   "source": [
    "print(\"hello\")"
   ]
  },
  {
   "cell_type": "code",
   "execution_count": null,
   "metadata": {},
   "outputs": [],
   "source": [
    "a = 5 "
   ]
  },
  {
   "cell_type": "code",
   "execution_count": 3,
   "metadata": {},
   "outputs": [
    {
     "name": "stdout",
     "output_type": "stream",
     "text": [
      " its true\n"
     ]
    }
   ],
   "source": [
    "# if elif and else statements\n",
    "\n",
    "if True:\n",
    "    print(\" its true\")"
   ]
  },
  {
   "cell_type": "code",
   "execution_count": 6,
   "metadata": {},
   "outputs": [
    {
     "name": "stdout",
     "output_type": "stream",
     "text": [
      "i'm not hungry\n"
     ]
    }
   ],
   "source": [
    "hungry = True\n",
    "\n",
    "if not hungry:\n",
    "    print(\"feed me!\")\n",
    "else:\n",
    "    print(\"i'm not hungry\")"
   ]
  },
  {
   "cell_type": "code",
   "execution_count": 9,
   "metadata": {},
   "outputs": [
    {
     "name": "stdout",
     "output_type": "stream",
     "text": [
      "money is cool\n"
     ]
    }
   ],
   "source": [
    "shop = 'bank'\n",
    "\n",
    "if shop == 'bank':\n",
    "    print(\"money is cool\")\n",
    "elif shop == 'nike':\n",
    "    print('shoes are cool')\n",
    "elif shop == 'car':\n",
    "    print('car is cool to see')\n",
    "else:\n",
    "    print(\"what shop is it\")"
   ]
  },
  {
   "cell_type": "code",
   "execution_count": 10,
   "metadata": {},
   "outputs": [],
   "source": [
    "# for loops \n",
    "# to iterate over the list or tupe or dict or string \n",
    "\n",
    "myList = [ 1,2,3,4,5,6,7,8,9,10]"
   ]
  },
  {
   "cell_type": "code",
   "execution_count": 11,
   "metadata": {},
   "outputs": [
    {
     "name": "stdout",
     "output_type": "stream",
     "text": [
      "1\n",
      "2\n",
      "3\n",
      "4\n",
      "5\n",
      "6\n",
      "7\n",
      "8\n",
      "9\n",
      "10\n"
     ]
    }
   ],
   "source": [
    "for num in myList:\n",
    "    print(num)"
   ]
  },
  {
   "cell_type": "code",
   "execution_count": 14,
   "metadata": {},
   "outputs": [
    {
     "name": "stdout",
     "output_type": "stream",
     "text": [
      "odd number  1\n",
      "2\n",
      "odd number  3\n",
      "4\n",
      "odd number  5\n",
      "6\n",
      "odd number  7\n",
      "8\n",
      "odd number  9\n",
      "10\n"
     ]
    }
   ],
   "source": [
    "for num in myList:\n",
    "    if num % 2 == 0:\n",
    "        print(num)\n",
    "    else: \n",
    "        print(\"odd number \" , num )"
   ]
  },
  {
   "cell_type": "code",
   "execution_count": 15,
   "metadata": {},
   "outputs": [
    {
     "name": "stdout",
     "output_type": "stream",
     "text": [
      "m\n",
      "a\n",
      "y\n",
      "u\n",
      "r\n",
      "e\n",
      "s\n",
      "h\n"
     ]
    }
   ],
   "source": [
    "myStr = \"mayuresh\"\n",
    "# for letter in \"mayuresh\"\n",
    "for letter in myStr:\n",
    "    print(letter)"
   ]
  },
  {
   "cell_type": "code",
   "execution_count": 16,
   "metadata": {},
   "outputs": [],
   "source": [
    "myTupList = [ (1,2) , (3,4) , (4,5) , (6,7)]"
   ]
  },
  {
   "cell_type": "code",
   "execution_count": 17,
   "metadata": {},
   "outputs": [
    {
     "name": "stdout",
     "output_type": "stream",
     "text": [
      "(1, 2)\n",
      "(3, 4)\n",
      "(4, 5)\n",
      "(6, 7)\n"
     ]
    }
   ],
   "source": [
    "for t in myTupList:\n",
    "    print(t)"
   ]
  },
  {
   "cell_type": "code",
   "execution_count": 18,
   "metadata": {},
   "outputs": [
    {
     "name": "stdout",
     "output_type": "stream",
     "text": [
      "1\n",
      "2\n",
      "3\n",
      "4\n",
      "4\n",
      "5\n",
      "6\n",
      "7\n"
     ]
    }
   ],
   "source": [
    "# we can unpack this tuple with the synctax below, which  is the common technique to do so\n",
    "for a,b in myTupList:\n",
    "    print(a)\n",
    "    print(b)"
   ]
  },
  {
   "cell_type": "code",
   "execution_count": 2,
   "metadata": {},
   "outputs": [],
   "source": [
    "# we can also iterate the dict using the for loop \n",
    "d = { \"k1\" :1 , \"k2\" : 2 , \"k3\" : 3} "
   ]
  },
  {
   "cell_type": "code",
   "execution_count": 22,
   "metadata": {},
   "outputs": [
    {
     "name": "stdout",
     "output_type": "stream",
     "text": [
      "1\n",
      "2\n",
      "3\n"
     ]
    }
   ],
   "source": [
    "for k in d: \n",
    "    print(d[k])\n",
    "    # print(k)"
   ]
  },
  {
   "cell_type": "code",
   "execution_count": 29,
   "metadata": {},
   "outputs": [
    {
     "name": "stdout",
     "output_type": "stream",
     "text": [
      "k  =  1\n",
      "k  =  2\n",
      "k  =  3\n"
     ]
    }
   ],
   "source": [
    "# we can also do unpacking on the dictionary \n",
    "# ---- we need to use the d.items() to get correct keys\n",
    "for key,value in d:\n",
    "    print(key , \" = \" , value)"
   ]
  },
  {
   "cell_type": "code",
   "execution_count": 28,
   "metadata": {},
   "outputs": [
    {
     "name": "stdout",
     "output_type": "stream",
     "text": [
      "k1  -  1\n",
      "k2  -  2\n",
      "k3  -  3\n"
     ]
    }
   ],
   "source": [
    "for k,v in d.items():\n",
    "    print(k , ' - ' , v)"
   ]
  },
  {
   "cell_type": "code",
   "execution_count": 5,
   "metadata": {},
   "outputs": [
    {
     "name": "stdout",
     "output_type": "stream",
     "text": [
      "1\n",
      "2\n",
      "3\n"
     ]
    }
   ],
   "source": [
    "for k in d.values():\n",
    "    print(k)"
   ]
  },
  {
   "cell_type": "code",
   "execution_count": 8,
   "metadata": {},
   "outputs": [
    {
     "name": "stdout",
     "output_type": "stream",
     "text": [
      "test\n"
     ]
    }
   ],
   "source": [
    "# while loops \n",
    "x = 100\n",
    "while x <= 5:\n",
    "    print(x)\n",
    "    x+=1 \n",
    "else: \n",
    "    print('test')"
   ]
  },
  {
   "cell_type": "markdown",
   "metadata": {},
   "source": [
    "# using break, continue, pass "
   ]
  },
  {
   "cell_type": "code",
   "execution_count": 9,
   "metadata": {},
   "outputs": [
    {
     "ename": "IndentationError",
     "evalue": "expected an indented block after 'while' statement on line 4 (578376605.py, line 6)",
     "output_type": "error",
     "traceback": [
      "\u001b[1;36m  Cell \u001b[1;32mIn [9], line 6\u001b[1;36m\u001b[0m\n\u001b[1;33m    print('hello')\u001b[0m\n\u001b[1;37m    ^\u001b[0m\n\u001b[1;31mIndentationError\u001b[0m\u001b[1;31m:\u001b[0m expected an indented block after 'while' statement on line 4\n"
     ]
    }
   ],
   "source": [
    "# pass -> when we write a loop statement and just want to write logic later we write pass.\n",
    "# otherwise we will get an error\n",
    "x = 10\n",
    "while x < 5:\n",
    "\n",
    "print('hello')"
   ]
  },
  {
   "cell_type": "code",
   "execution_count": 11,
   "metadata": {},
   "outputs": [
    {
     "name": "stdout",
     "output_type": "stream",
     "text": [
      "now the error is resolved\n"
     ]
    }
   ],
   "source": [
    "while x < 5:\n",
    "# to correct out the above code we need to add pass.\n",
    "    pass\n",
    "print('now the error is resolved')"
   ]
  },
  {
   "cell_type": "code",
   "execution_count": 18,
   "metadata": {},
   "outputs": [
    {
     "name": "stdout",
     "output_type": "stream",
     "text": [
      "1\n",
      "3\n",
      "4\n",
      "5\n"
     ]
    }
   ],
   "source": [
    "# using the continue statement -> use to pass or go to the top of the control to closest enclosed loop \n",
    "\n",
    "listitem = [ 1, 2, 3 , 4 , 5 ]\n",
    "# with the continuw statement we can skip the item and contine with the remaining values\n",
    "for item in listitem:\n",
    "    if item == 2:\n",
    "        continue\n",
    "    print(item) "
   ]
  },
  {
   "cell_type": "code",
   "execution_count": 10,
   "metadata": {},
   "outputs": [
    {
     "name": "stdout",
     "output_type": "stream",
     "text": [
      "  - - - - - using continue in for loop - - - - -\n",
      "m\n",
      "y\n",
      "r\n",
      "e\n",
      "s\n",
      "h\n",
      "  - - - - - using break in for loop - - - - -\n",
      "m\n",
      "  - - - - - using continue in while - - - - -\n",
      "1\n",
      "2\n",
      "4\n",
      "5\n",
      "  - - - - - using break in while - - - - -\n",
      "1\n",
      "2\n"
     ]
    }
   ],
   "source": [
    "# using the break statement -> we can stop the traversing.\n",
    "# we get out of the closest enclosing loop \n",
    "\n",
    "name = \"maayresh\"\n",
    "print( '  - - - - - using continue in for loop - - - - -')\n",
    "for ch in name:\n",
    "    if ch == 'a':\n",
    "      continue\n",
    "    print(ch)\n",
    "\n",
    "print( '  - - - - - using break in for loop - - - - -')\n",
    "for ch in name:\n",
    "    if ch == 'a':\n",
    "        break\n",
    "    print(ch)\n",
    "\n",
    "n = 0\n",
    "\n",
    "print( '  - - - - - using continue in while - - - - -')\n",
    "while n < 5:\n",
    "    n += 1\n",
    "    if n == 3:\n",
    "        continue\n",
    "    # n += 1 if declared here it will go into the infinite loop so \n",
    "    # increment the count before the condition is checked \n",
    "    # cause when the n == 3 it will keep going to the while condition instead of incrementing\n",
    "    # so before checking increment it\n",
    "    print(n)\n",
    "\n",
    "print( '  - - - - - using break in while - - - - -')\n",
    "n = 0\n",
    "while n < 5:\n",
    "    n += 1\n",
    "    if n == 3:\n",
    "        break\n",
    "    # n += 1 if declared here it will go into the infinite loop so \n",
    "    # increment the count before the condition is checked \n",
    "    # cause when the n == 3 it will keep going to the while condition instead of incrementing\n",
    "    # so before checking increment it\n",
    "    print(n)"
   ]
  },
  {
   "cell_type": "markdown",
   "metadata": {},
   "source": [
    "# built in operators and usefull fuctions "
   ]
  },
  {
   "cell_type": "code",
   "execution_count": 11,
   "metadata": {},
   "outputs": [
    {
     "name": "stdout",
     "output_type": "stream",
     "text": [
      "0\n",
      "1\n",
      "2\n",
      "3\n",
      "4\n",
      "5\n",
      "6\n",
      "7\n",
      "8\n",
      "9\n"
     ]
    }
   ],
   "source": [
    "# using the range function to start the for loop \n",
    "for i in range(10):\n",
    "    print(i)\n",
    "\n",
    "# the range function has the following parameter \n",
    "# range(start, limit , skip_iteration)"
   ]
  },
  {
   "cell_type": "code",
   "execution_count": 15,
   "metadata": {},
   "outputs": [
    {
     "name": "stdout",
     "output_type": "stream",
     "text": [
      "0\n",
      "2\n",
      "4\n",
      "6\n",
      "8\n",
      "10\n"
     ]
    }
   ],
   "source": [
    "# for n in range(3,10): # start from 3 and go till the 10 \n",
    "    # print(n)\n",
    "\n",
    "for n in range(0,11,2):\n",
    "    print(n)"
   ]
  },
  {
   "cell_type": "code",
   "execution_count": 17,
   "metadata": {},
   "outputs": [
    {
     "name": "stdout",
     "output_type": "stream",
     "text": [
      "[0, 1, 2, 3, 4]\n"
     ]
    }
   ],
   "source": [
    "# we can use this syntax to generate the list using range function \n",
    "\n",
    "gen_list = list(range(5))\n",
    "print(gen_list)"
   ]
  },
  {
   "cell_type": "code",
   "execution_count": 20,
   "metadata": {},
   "outputs": [
    {
     "name": "stdout",
     "output_type": "stream",
     "text": [
      "at index 0 letter is m\n",
      "at index 1 letter is a\n",
      "at index 2 letter is y\n",
      "at index 3 letter is u\n",
      "at index 4 letter is r\n"
     ]
    }
   ],
   "source": [
    "index_count = 0 \n",
    "name = 'mayur'\n",
    "for c in name:\n",
    "    print('at index {} letter is {}'.format(index_count , c))\n",
    "    index_count += 1"
   ]
  },
  {
   "cell_type": "code",
   "execution_count": 21,
   "metadata": {},
   "outputs": [
    {
     "name": "stdout",
     "output_type": "stream",
     "text": [
      "(0, 'm')\n",
      "(1, 'a')\n",
      "(2, 'y')\n",
      "(3, 'u')\n",
      "(4, 'r')\n"
     ]
    }
   ],
   "source": [
    "# we can also use the emumerator as well  \n",
    "# as we had this common use case we have a built in enumerator function\n",
    "\n",
    "for c in enumerate(name):\n",
    "    print(c)"
   ]
  },
  {
   "cell_type": "code",
   "execution_count": 25,
   "metadata": {},
   "outputs": [
    {
     "name": "stdout",
     "output_type": "stream",
     "text": [
      " at index 0 is letter m\n",
      " at index 1 is letter a\n",
      " at index 2 is letter y\n",
      " at index 3 is letter u\n",
      " at index 4 is letter r\n"
     ]
    }
   ],
   "source": [
    "# we can do the unpacking of the tuple as the enumerate return tuple \n",
    "for index,c in enumerate(name):\n",
    "    print(' at index {} is letter {}'.format(index,c))\n"
   ]
  },
  {
   "cell_type": "code",
   "execution_count": 31,
   "metadata": {},
   "outputs": [
    {
     "name": "stdout",
     "output_type": "stream",
     "text": [
      "(1, 'a')\n",
      "(2, 'b')\n",
      "(3, 'c')\n",
      "  - - - - - - - - \n",
      "1 a\n",
      "2 b\n",
      "3 c\n",
      "[(1, 'a', 100), (2, 'b', 200), (3, 'c', 300)]\n"
     ]
    }
   ],
   "source": [
    "# using zip \n",
    "# it combines 1 or more list into the tupe , if we have a uneven list then the shortest one is considered.\n",
    "list1 = [ 1, 2, 3]\n",
    "list2 = ['a', 'b' , 'c']\n",
    "\n",
    "for i in zip(list1, list2):\n",
    "    print(i)\n",
    "\n",
    "print('  - - - - - - - - ')\n",
    "\n",
    "for a,b in zip(list1 , list2):\n",
    "    print(a,b)\n",
    "\n",
    "list3 = [100,200, 300]\n",
    "# converting the data into the  list from zip function\n",
    "cl = list(zip(list1,list2,list3))\n",
    "print(cl)\n"
   ]
  },
  {
   "cell_type": "code",
   "execution_count": 12,
   "metadata": {},
   "outputs": [
    {
     "name": "stdout",
     "output_type": "stream",
     "text": [
      "Hello world\n",
      "{'h': 1, 'e': 1, 'l': 2, 'o': 1}\n",
      " h is 1 times\n",
      " e is 1 times\n",
      " l is 2 times\n",
      " l is 2 times\n",
      " o is 1 times\n"
     ]
    }
   ],
   "source": [
    "# Online Python compiler (interpreter) to run Python online.\n",
    "# Write Python 3 code in this online editor and run it.\n",
    "print(\"Hello world\")\n",
    "\n",
    "# print(\"hi\" + 3)\n",
    "\n",
    "# a = [1,2]\n",
    "# b = [3,4]\n",
    "# c = { 5,6} \n",
    "# print(a + b  + c )\n",
    "\n",
    "s = \"hello\"\n",
    "d = {}\n",
    "r = \"\"\n",
    " \n",
    "for c in s:\n",
    "    if not c in d:\n",
    "         d[c] = 1\n",
    "    else:\n",
    "         d[c] += 1 \n",
    "print(d)\n",
    "\n",
    "for c in s:\n",
    "    print(f' {c} is {d[c]} times')"
   ]
  },
  {
   "cell_type": "code",
   "execution_count": 13,
   "metadata": {},
   "outputs": [
    {
     "name": "stdout",
     "output_type": "stream",
     "text": [
      "{'m': 1, 'a': 2, 'y': 1, 'u': 1, 'r': 1, 'e': 1, 's': 1, 'h': 1, 'z': 2}\n",
      " r is  m1a2a2y1u1r1e1s1h1z2z2\n"
     ]
    }
   ],
   "source": [
    "# neew approach\n",
    "# s = \"hello\"\n",
    "s = \"maayureshzz\" \n",
    "d = {}\n",
    "r = \"\"\n",
    " \n",
    "for c in s:\n",
    "    if not c in d:\n",
    "         d[c] = 1\n",
    "    else:\n",
    "         d[c] += 1 \n",
    "print(d)\n",
    "\n",
    "for c in s:\n",
    "    r += (c + str(d[c]))\n",
    "    # print(f' {c} is {d[c]} times r = {r}')\n",
    "\n",
    "print(\" r is \" , r)"
   ]
  },
  {
   "cell_type": "code",
   "execution_count": 15,
   "metadata": {},
   "outputs": [
    {
     "name": "stdout",
     "output_type": "stream",
     "text": [
      "here a\n",
      "a2b2c1\n"
     ]
    }
   ],
   "source": [
    "# using the while logic \n",
    "\n",
    "g = 'aabbca'\n",
    "# g = 'maayureshzz'\n",
    "\n",
    "l = 0 \n",
    "r = 0 \n",
    "count = 0\n",
    "length = len(g) - 1\n",
    "res = ''\n",
    "print(\"here\" , g[length])\n",
    "\n",
    "while l < length:\n",
    "    if g[l] == g[r]:\n",
    "        r += 1\n",
    "        count +=1 \n",
    "    else:\n",
    "        res += g[l] + str(count)\n",
    "        count = 0\n",
    "        l = r\n",
    "    # if r == length:\n",
    "    #     res += g[length] + str(count + 1)\n",
    "    #     break\n",
    "    # print(g[r])    \n",
    "# res = res + ( g[l] + '1' )\n",
    "print(res)"
   ]
  }
 ],
 "metadata": {
  "kernelspec": {
   "display_name": "Python 3.10.8 64-bit (microsoft store)",
   "language": "python",
   "name": "python3"
  },
  "language_info": {
   "codemirror_mode": {
    "name": "ipython",
    "version": 3
   },
   "file_extension": ".py",
   "mimetype": "text/x-python",
   "name": "python",
   "nbconvert_exporter": "python",
   "pygments_lexer": "ipython3",
   "version": "3.10.8"
  },
  "orig_nbformat": 4,
  "vscode": {
   "interpreter": {
    "hash": "5be16941b7f1d69de5b0301388591dc32beeb51110262acd7f5ecd40450f7d43"
   }
  }
 },
 "nbformat": 4,
 "nbformat_minor": 2
}
